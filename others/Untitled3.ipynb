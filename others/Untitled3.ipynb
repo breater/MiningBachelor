{
 "cells": [
  {
   "cell_type": "code",
   "execution_count": 1,
   "id": "d5f72adb",
   "metadata": {},
   "outputs": [],
   "source": [
    "import pandas as pd\n",
    "import numpy as np"
   ]
  },
  {
   "cell_type": "code",
   "execution_count": 2,
   "id": "2fa00dd2",
   "metadata": {},
   "outputs": [
    {
     "data": {
      "text/plain": [
       "(125537, 4)"
      ]
     },
     "execution_count": 2,
     "metadata": {},
     "output_type": "execute_result"
    }
   ],
   "source": [
    "#frame = pd.read_csv(r'ausleihe2.csv')\n",
    "frame = pd.read_csv(r'ausleihe2.csv')\n",
    "df = pd.DataFrame(frame)\n",
    "#col = list(df.columns.values)\n",
    "\n",
    "#test = pd.DataFrame(df)\n",
    "\n",
    "df.head()\n",
    "\n",
    "df.shape"
   ]
  },
  {
   "cell_type": "code",
   "execution_count": 3,
   "id": "59d12fb0",
   "metadata": {},
   "outputs": [
    {
     "data": {
      "text/plain": [
       "(243, 7)"
      ]
     },
     "execution_count": 3,
     "metadata": {},
     "output_type": "execute_result"
    }
   ],
   "source": [
    "#get weather data\n",
    "wframe = pd.read_csv(r'weather.csv')\n",
    "#weather = pd.DataFrame(wframe, columns=['year','week','tempC','sunHour','preciMM','FeelsLikeC', 'humidity'])\n",
    "weather = pd.DataFrame(wframe)\n",
    "weather.head()\n",
    "weather.shape"
   ]
  },
  {
   "cell_type": "code",
   "execution_count": 4,
   "id": "1163eea8",
   "metadata": {},
   "outputs": [
    {
     "name": "stdout",
     "output_type": "stream",
     "text": [
      "Empty DataFrame\n",
      "Columns: [year, week, station1, count]\n",
      "Index: []\n"
     ]
    },
    {
     "data": {
      "text/html": [
       "<div>\n",
       "<style scoped>\n",
       "    .dataframe tbody tr th:only-of-type {\n",
       "        vertical-align: middle;\n",
       "    }\n",
       "\n",
       "    .dataframe tbody tr th {\n",
       "        vertical-align: top;\n",
       "    }\n",
       "\n",
       "    .dataframe thead th {\n",
       "        text-align: right;\n",
       "    }\n",
       "</style>\n",
       "<table border=\"1\" class=\"dataframe\">\n",
       "  <thead>\n",
       "    <tr style=\"text-align: right;\">\n",
       "      <th></th>\n",
       "      <th>year</th>\n",
       "      <th>week</th>\n",
       "      <th>station1</th>\n",
       "      <th>count</th>\n",
       "      <th>tempC</th>\n",
       "      <th>sunHour</th>\n",
       "      <th>precipMM</th>\n",
       "      <th>FeelsLikeC</th>\n",
       "      <th>humidity</th>\n",
       "    </tr>\n",
       "  </thead>\n",
       "  <tbody>\n",
       "    <tr>\n",
       "      <th>0</th>\n",
       "      <td>2017</td>\n",
       "      <td>37</td>\n",
       "      <td>1 Ave &amp; E 110 St</td>\n",
       "      <td>64</td>\n",
       "      <td>27.857143</td>\n",
       "      <td>10.857143</td>\n",
       "      <td>4.600000</td>\n",
       "      <td>24.857143</td>\n",
       "      <td>64.571429</td>\n",
       "    </tr>\n",
       "    <tr>\n",
       "      <th>1</th>\n",
       "      <td>2017</td>\n",
       "      <td>38</td>\n",
       "      <td>1 Ave &amp; E 110 St</td>\n",
       "      <td>134</td>\n",
       "      <td>27.857143</td>\n",
       "      <td>10.028571</td>\n",
       "      <td>0.942857</td>\n",
       "      <td>25.142857</td>\n",
       "      <td>64.142857</td>\n",
       "    </tr>\n",
       "    <tr>\n",
       "      <th>2</th>\n",
       "      <td>2017</td>\n",
       "      <td>39</td>\n",
       "      <td>1 Ave &amp; E 110 St</td>\n",
       "      <td>166</td>\n",
       "      <td>25.428571</td>\n",
       "      <td>11.600000</td>\n",
       "      <td>1.828571</td>\n",
       "      <td>22.571429</td>\n",
       "      <td>61.142857</td>\n",
       "    </tr>\n",
       "    <tr>\n",
       "      <th>3</th>\n",
       "      <td>2017</td>\n",
       "      <td>40</td>\n",
       "      <td>1 Ave &amp; E 110 St</td>\n",
       "      <td>179</td>\n",
       "      <td>25.000000</td>\n",
       "      <td>10.971429</td>\n",
       "      <td>2.614286</td>\n",
       "      <td>22.714286</td>\n",
       "      <td>64.000000</td>\n",
       "    </tr>\n",
       "    <tr>\n",
       "      <th>4</th>\n",
       "      <td>2017</td>\n",
       "      <td>41</td>\n",
       "      <td>1 Ave &amp; E 110 St</td>\n",
       "      <td>174</td>\n",
       "      <td>22.428571</td>\n",
       "      <td>8.971429</td>\n",
       "      <td>4.328571</td>\n",
       "      <td>20.285714</td>\n",
       "      <td>72.714286</td>\n",
       "    </tr>\n",
       "  </tbody>\n",
       "</table>\n",
       "</div>"
      ],
      "text/plain": [
       "   year  week          station1  count      tempC    sunHour  precipMM  \\\n",
       "0  2017    37  1 Ave & E 110 St     64  27.857143  10.857143  4.600000   \n",
       "1  2017    38  1 Ave & E 110 St    134  27.857143  10.028571  0.942857   \n",
       "2  2017    39  1 Ave & E 110 St    166  25.428571  11.600000  1.828571   \n",
       "3  2017    40  1 Ave & E 110 St    179  25.000000  10.971429  2.614286   \n",
       "4  2017    41  1 Ave & E 110 St    174  22.428571   8.971429  4.328571   \n",
       "\n",
       "   FeelsLikeC   humidity  \n",
       "0   24.857143  64.571429  \n",
       "1   25.142857  64.142857  \n",
       "2   22.571429  61.142857  \n",
       "3   22.714286  64.000000  \n",
       "4   20.285714  72.714286  "
      ]
     },
     "execution_count": 4,
     "metadata": {},
     "output_type": "execute_result"
    }
   ],
   "source": [
    "df_neu = pd.merge(df,weather,on=['year','week'],how='left')\n",
    "print(df[df.index.duplicated()])\n",
    "df_neu.head()"
   ]
  },
  {
   "cell_type": "code",
   "execution_count": 5,
   "id": "b7e5d3f0",
   "metadata": {},
   "outputs": [],
   "source": [
    "df_neu2 = df_neu.sort_values(by=['year','week'])"
   ]
  },
  {
   "cell_type": "code",
   "execution_count": 47,
   "id": "08194ace",
   "metadata": {},
   "outputs": [],
   "source": [
    "df_neu2.to_csv('ausleihen_mit_wetter.csv', index=False)"
   ]
  },
  {
   "cell_type": "code",
   "execution_count": 48,
   "id": "e0c68e90",
   "metadata": {},
   "outputs": [
    {
     "data": {
      "text/plain": [
       "(125537, 9)"
      ]
     },
     "execution_count": 48,
     "metadata": {},
     "output_type": "execute_result"
    }
   ],
   "source": [
    "df_neu.shape"
   ]
  },
  {
   "cell_type": "code",
   "execution_count": 29,
   "id": "be0528e1",
   "metadata": {},
   "outputs": [
    {
     "data": {
      "text/html": [
       "<div>\n",
       "<style scoped>\n",
       "    .dataframe tbody tr th:only-of-type {\n",
       "        vertical-align: middle;\n",
       "    }\n",
       "\n",
       "    .dataframe tbody tr th {\n",
       "        vertical-align: top;\n",
       "    }\n",
       "\n",
       "    .dataframe thead th {\n",
       "        text-align: right;\n",
       "    }\n",
       "</style>\n",
       "<table border=\"1\" class=\"dataframe\">\n",
       "  <thead>\n",
       "    <tr style=\"text-align: right;\">\n",
       "      <th></th>\n",
       "      <th>year</th>\n",
       "      <th>week</th>\n",
       "      <th>station1</th>\n",
       "      <th>count</th>\n",
       "      <th>tempC</th>\n",
       "      <th>sunHour</th>\n",
       "      <th>precipMM</th>\n",
       "      <th>FeelsLikeC</th>\n",
       "      <th>humidity</th>\n",
       "    </tr>\n",
       "  </thead>\n",
       "  <tbody>\n",
       "    <tr>\n",
       "      <th>0</th>\n",
       "      <td>2017</td>\n",
       "      <td>37</td>\n",
       "      <td>1 Ave &amp; E 110 St</td>\n",
       "      <td>64</td>\n",
       "      <td>27.857143</td>\n",
       "      <td>10.857143</td>\n",
       "      <td>4.600000</td>\n",
       "      <td>24.857143</td>\n",
       "      <td>64.571429</td>\n",
       "    </tr>\n",
       "    <tr>\n",
       "      <th>1</th>\n",
       "      <td>2017</td>\n",
       "      <td>38</td>\n",
       "      <td>1 Ave &amp; E 110 St</td>\n",
       "      <td>134</td>\n",
       "      <td>27.857143</td>\n",
       "      <td>10.028571</td>\n",
       "      <td>0.942857</td>\n",
       "      <td>25.142857</td>\n",
       "      <td>64.142857</td>\n",
       "    </tr>\n",
       "    <tr>\n",
       "      <th>2</th>\n",
       "      <td>2017</td>\n",
       "      <td>39</td>\n",
       "      <td>1 Ave &amp; E 110 St</td>\n",
       "      <td>166</td>\n",
       "      <td>25.428571</td>\n",
       "      <td>11.600000</td>\n",
       "      <td>1.828571</td>\n",
       "      <td>22.571429</td>\n",
       "      <td>61.142857</td>\n",
       "    </tr>\n",
       "    <tr>\n",
       "      <th>3</th>\n",
       "      <td>2017</td>\n",
       "      <td>40</td>\n",
       "      <td>1 Ave &amp; E 110 St</td>\n",
       "      <td>179</td>\n",
       "      <td>25.000000</td>\n",
       "      <td>10.971429</td>\n",
       "      <td>2.614286</td>\n",
       "      <td>22.714286</td>\n",
       "      <td>64.000000</td>\n",
       "    </tr>\n",
       "    <tr>\n",
       "      <th>4</th>\n",
       "      <td>2017</td>\n",
       "      <td>41</td>\n",
       "      <td>1 Ave &amp; E 110 St</td>\n",
       "      <td>174</td>\n",
       "      <td>22.428571</td>\n",
       "      <td>8.971429</td>\n",
       "      <td>4.328571</td>\n",
       "      <td>20.285714</td>\n",
       "      <td>72.714286</td>\n",
       "    </tr>\n",
       "  </tbody>\n",
       "</table>\n",
       "</div>"
      ],
      "text/plain": [
       "   year  week          station1  count      tempC    sunHour  precipMM  \\\n",
       "0  2017    37  1 Ave & E 110 St     64  27.857143  10.857143  4.600000   \n",
       "1  2017    38  1 Ave & E 110 St    134  27.857143  10.028571  0.942857   \n",
       "2  2017    39  1 Ave & E 110 St    166  25.428571  11.600000  1.828571   \n",
       "3  2017    40  1 Ave & E 110 St    179  25.000000  10.971429  2.614286   \n",
       "4  2017    41  1 Ave & E 110 St    174  22.428571   8.971429  4.328571   \n",
       "\n",
       "   FeelsLikeC   humidity  \n",
       "0   24.857143  64.571429  \n",
       "1   25.142857  64.142857  \n",
       "2   22.571429  61.142857  \n",
       "3   22.714286  64.000000  \n",
       "4   20.285714  72.714286  "
      ]
     },
     "execution_count": 29,
     "metadata": {},
     "output_type": "execute_result"
    }
   ],
   "source": [
    "df_neu.head()"
   ]
  },
  {
   "cell_type": "code",
   "execution_count": 6,
   "id": "112feb7d",
   "metadata": {},
   "outputs": [
    {
     "name": "stdout",
     "output_type": "stream",
     "text": [
      "692\n"
     ]
    }
   ],
   "source": [
    "stationnamesframe =   df.drop_duplicates() \n",
    "stationnamesframe = pd.DataFrame(stationnamesframe,columns=['station1'])\n",
    "stationnamesframe =   stationnamesframe.drop_duplicates() \n",
    "stationnames =  pd.DataFrame(stationnamesframe , columns=['station1'])['station1'].to_numpy().tolist()\n",
    "print(len(stationnames))"
   ]
  },
  {
   "cell_type": "code",
   "execution_count": 8,
   "id": "35f9dc25",
   "metadata": {},
   "outputs": [
    {
     "name": "stdout",
     "output_type": "stream",
     "text": [
      "692\n"
     ]
    }
   ],
   "source": [
    "stationnamesframe =   df_neu.drop_duplicates() \n",
    "stationnamesframe = pd.DataFrame(stationnamesframe,columns=['station1'])\n",
    "stationnamesframe =   stationnamesframe.drop_duplicates() \n",
    "stationnames =  pd.DataFrame(stationnamesframe , columns=['station1'])['station1'].to_numpy().tolist()\n",
    "print(len(stationnames))"
   ]
  },
  {
   "cell_type": "code",
   "execution_count": null,
   "id": "26de415a",
   "metadata": {},
   "outputs": [],
   "source": []
  }
 ],
 "metadata": {
  "kernelspec": {
   "display_name": "Python 3 (ipykernel)",
   "language": "python",
   "name": "python3"
  },
  "language_info": {
   "codemirror_mode": {
    "name": "ipython",
    "version": 3
   },
   "file_extension": ".py",
   "mimetype": "text/x-python",
   "name": "python",
   "nbconvert_exporter": "python",
   "pygments_lexer": "ipython3",
   "version": "3.8.10"
  }
 },
 "nbformat": 4,
 "nbformat_minor": 5
}
