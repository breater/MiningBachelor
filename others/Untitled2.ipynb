{
 "cells": [
  {
   "cell_type": "code",
   "execution_count": 16,
   "id": "13bbf39b",
   "metadata": {},
   "outputs": [],
   "source": [
    "import pandas as pd\n",
    "import numpy as np\n",
    "import matplotlib.pyplot as plt\n",
    "import math"
   ]
  },
  {
   "cell_type": "code",
   "execution_count": 17,
   "id": "af64e9ca",
   "metadata": {},
   "outputs": [
    {
     "data": {
      "text/html": [
       "<div>\n",
       "<style scoped>\n",
       "    .dataframe tbody tr th:only-of-type {\n",
       "        vertical-align: middle;\n",
       "    }\n",
       "\n",
       "    .dataframe tbody tr th {\n",
       "        vertical-align: top;\n",
       "    }\n",
       "\n",
       "    .dataframe thead th {\n",
       "        text-align: right;\n",
       "    }\n",
       "</style>\n",
       "<table border=\"1\" class=\"dataframe\">\n",
       "  <thead>\n",
       "    <tr style=\"text-align: right;\">\n",
       "      <th></th>\n",
       "      <th>year</th>\n",
       "      <th>week</th>\n",
       "      <th>station1</th>\n",
       "      <th>count</th>\n",
       "      <th>tempC</th>\n",
       "      <th>sunHour</th>\n",
       "      <th>precipMM</th>\n",
       "      <th>FeelsLikeC</th>\n",
       "      <th>humidity</th>\n",
       "    </tr>\n",
       "  </thead>\n",
       "  <tbody>\n",
       "    <tr>\n",
       "      <th>0</th>\n",
       "      <td>2015</td>\n",
       "      <td>1</td>\n",
       "      <td>1 Ave &amp; E 18 St</td>\n",
       "      <td>119</td>\n",
       "      <td>6.0</td>\n",
       "      <td>6.525</td>\n",
       "      <td>6.45</td>\n",
       "      <td>-1.25</td>\n",
       "      <td>71.0</td>\n",
       "    </tr>\n",
       "    <tr>\n",
       "      <th>1</th>\n",
       "      <td>2015</td>\n",
       "      <td>1</td>\n",
       "      <td>1 Ave &amp; E 30 St</td>\n",
       "      <td>147</td>\n",
       "      <td>6.0</td>\n",
       "      <td>6.525</td>\n",
       "      <td>6.45</td>\n",
       "      <td>-1.25</td>\n",
       "      <td>71.0</td>\n",
       "    </tr>\n",
       "    <tr>\n",
       "      <th>2</th>\n",
       "      <td>2015</td>\n",
       "      <td>1</td>\n",
       "      <td>1 Ave &amp; E 44 St</td>\n",
       "      <td>73</td>\n",
       "      <td>6.0</td>\n",
       "      <td>6.525</td>\n",
       "      <td>6.45</td>\n",
       "      <td>-1.25</td>\n",
       "      <td>71.0</td>\n",
       "    </tr>\n",
       "    <tr>\n",
       "      <th>3</th>\n",
       "      <td>2015</td>\n",
       "      <td>1</td>\n",
       "      <td>11 Ave &amp; W 27 St</td>\n",
       "      <td>73</td>\n",
       "      <td>6.0</td>\n",
       "      <td>6.525</td>\n",
       "      <td>6.45</td>\n",
       "      <td>-1.25</td>\n",
       "      <td>71.0</td>\n",
       "    </tr>\n",
       "    <tr>\n",
       "      <th>4</th>\n",
       "      <td>2015</td>\n",
       "      <td>1</td>\n",
       "      <td>11 Ave &amp; W 41 St</td>\n",
       "      <td>133</td>\n",
       "      <td>6.0</td>\n",
       "      <td>6.525</td>\n",
       "      <td>6.45</td>\n",
       "      <td>-1.25</td>\n",
       "      <td>71.0</td>\n",
       "    </tr>\n",
       "  </tbody>\n",
       "</table>\n",
       "</div>"
      ],
      "text/plain": [
       "   year  week          station1  count  tempC  sunHour  precipMM  FeelsLikeC  \\\n",
       "0  2015     1   1 Ave & E 18 St    119    6.0    6.525      6.45       -1.25   \n",
       "1  2015     1   1 Ave & E 30 St    147    6.0    6.525      6.45       -1.25   \n",
       "2  2015     1   1 Ave & E 44 St     73    6.0    6.525      6.45       -1.25   \n",
       "3  2015     1  11 Ave & W 27 St     73    6.0    6.525      6.45       -1.25   \n",
       "4  2015     1  11 Ave & W 41 St    133    6.0    6.525      6.45       -1.25   \n",
       "\n",
       "   humidity  \n",
       "0      71.0  \n",
       "1      71.0  \n",
       "2      71.0  \n",
       "3      71.0  \n",
       "4      71.0  "
      ]
     },
     "execution_count": 17,
     "metadata": {},
     "output_type": "execute_result"
    }
   ],
   "source": [
    "#frame = pd.read_csv(r'ausleihe2.csv')\n",
    "frame = pd.read_csv(r'ausleihen_mit_wetter.csv')\n",
    "df = pd.DataFrame(frame)\n",
    "col = list(df.columns.values)\n",
    "\n",
    "test = pd.DataFrame(frame)\n",
    "\n",
    "df.head()"
   ]
  },
  {
   "cell_type": "code",
   "execution_count": 18,
   "id": "5d826a5c",
   "metadata": {},
   "outputs": [],
   "source": [
    "def getLastweek(year,week,station,distance):\n",
    "    \n",
    "    if week-distance < 1:\n",
    "        weekanzahl = 53+(week-distance-1)\n",
    "        yearanzahl = year-1\n",
    "    else:    \n",
    "        weekanzahl = week-distance\n",
    "        yearanzahl = year\n",
    "    value = df[(df['year'] == yearanzahl) & (df['week']== weekanzahl) &  (df['station1']== station)]\n",
    "    if value['count'].empty == False:\n",
    "        return value['count'].values[0]\n",
    "    return math.nan"
   ]
  },
  {
   "cell_type": "code",
   "execution_count": 19,
   "id": "3f8374d6",
   "metadata": {},
   "outputs": [],
   "source": [
    "def getWeek1(data):\n",
    "    #print(data)\n",
    "    return getLastweek(data['year'],data['week'],data['station1'],1)"
   ]
  },
  {
   "cell_type": "code",
   "execution_count": 20,
   "id": "7684a073",
   "metadata": {},
   "outputs": [],
   "source": [
    "local = df.copy()\n",
    "# The apply method calls a function on each row\n",
    "local['week1anzahl'] = local.apply(getWeek1,axis=1)"
   ]
  },
  {
   "cell_type": "code",
   "execution_count": null,
   "id": "cd1ed374",
   "metadata": {},
   "outputs": [],
   "source": [
    "local.sort_values(by=['station1','year','week'])"
   ]
  },
  {
   "cell_type": "code",
   "execution_count": 21,
   "id": "c9a1f7b2",
   "metadata": {},
   "outputs": [],
   "source": [
    "local = local.fillna(0)"
   ]
  },
  {
   "cell_type": "code",
   "execution_count": 22,
   "id": "befe2498",
   "metadata": {},
   "outputs": [
    {
     "data": {
      "text/plain": [
       "((125537, 9), (125537, 10))"
      ]
     },
     "execution_count": 22,
     "metadata": {},
     "output_type": "execute_result"
    }
   ],
   "source": [
    "df.shape , local.shape"
   ]
  },
  {
   "cell_type": "code",
   "execution_count": 23,
   "id": "afb0df87",
   "metadata": {},
   "outputs": [
    {
     "data": {
      "text/html": [
       "<div>\n",
       "<style scoped>\n",
       "    .dataframe tbody tr th:only-of-type {\n",
       "        vertical-align: middle;\n",
       "    }\n",
       "\n",
       "    .dataframe tbody tr th {\n",
       "        vertical-align: top;\n",
       "    }\n",
       "\n",
       "    .dataframe thead th {\n",
       "        text-align: right;\n",
       "    }\n",
       "</style>\n",
       "<table border=\"1\" class=\"dataframe\">\n",
       "  <thead>\n",
       "    <tr style=\"text-align: right;\">\n",
       "      <th></th>\n",
       "      <th>year</th>\n",
       "      <th>week</th>\n",
       "      <th>station1</th>\n",
       "      <th>count</th>\n",
       "      <th>tempC</th>\n",
       "      <th>sunHour</th>\n",
       "      <th>precipMM</th>\n",
       "      <th>FeelsLikeC</th>\n",
       "      <th>humidity</th>\n",
       "      <th>week1anzahl</th>\n",
       "    </tr>\n",
       "  </thead>\n",
       "  <tbody>\n",
       "    <tr>\n",
       "      <th>0</th>\n",
       "      <td>2015</td>\n",
       "      <td>1</td>\n",
       "      <td>1 Ave &amp; E 18 St</td>\n",
       "      <td>119</td>\n",
       "      <td>6.0</td>\n",
       "      <td>6.525</td>\n",
       "      <td>6.45</td>\n",
       "      <td>-1.25</td>\n",
       "      <td>71.0</td>\n",
       "      <td>0.0</td>\n",
       "    </tr>\n",
       "    <tr>\n",
       "      <th>1</th>\n",
       "      <td>2015</td>\n",
       "      <td>1</td>\n",
       "      <td>1 Ave &amp; E 30 St</td>\n",
       "      <td>147</td>\n",
       "      <td>6.0</td>\n",
       "      <td>6.525</td>\n",
       "      <td>6.45</td>\n",
       "      <td>-1.25</td>\n",
       "      <td>71.0</td>\n",
       "      <td>0.0</td>\n",
       "    </tr>\n",
       "    <tr>\n",
       "      <th>2</th>\n",
       "      <td>2015</td>\n",
       "      <td>1</td>\n",
       "      <td>1 Ave &amp; E 44 St</td>\n",
       "      <td>73</td>\n",
       "      <td>6.0</td>\n",
       "      <td>6.525</td>\n",
       "      <td>6.45</td>\n",
       "      <td>-1.25</td>\n",
       "      <td>71.0</td>\n",
       "      <td>0.0</td>\n",
       "    </tr>\n",
       "    <tr>\n",
       "      <th>3</th>\n",
       "      <td>2015</td>\n",
       "      <td>1</td>\n",
       "      <td>11 Ave &amp; W 27 St</td>\n",
       "      <td>73</td>\n",
       "      <td>6.0</td>\n",
       "      <td>6.525</td>\n",
       "      <td>6.45</td>\n",
       "      <td>-1.25</td>\n",
       "      <td>71.0</td>\n",
       "      <td>0.0</td>\n",
       "    </tr>\n",
       "    <tr>\n",
       "      <th>4</th>\n",
       "      <td>2015</td>\n",
       "      <td>1</td>\n",
       "      <td>11 Ave &amp; W 41 St</td>\n",
       "      <td>133</td>\n",
       "      <td>6.0</td>\n",
       "      <td>6.525</td>\n",
       "      <td>6.45</td>\n",
       "      <td>-1.25</td>\n",
       "      <td>71.0</td>\n",
       "      <td>0.0</td>\n",
       "    </tr>\n",
       "  </tbody>\n",
       "</table>\n",
       "</div>"
      ],
      "text/plain": [
       "   year  week          station1  count  tempC  sunHour  precipMM  FeelsLikeC  \\\n",
       "0  2015     1   1 Ave & E 18 St    119    6.0    6.525      6.45       -1.25   \n",
       "1  2015     1   1 Ave & E 30 St    147    6.0    6.525      6.45       -1.25   \n",
       "2  2015     1   1 Ave & E 44 St     73    6.0    6.525      6.45       -1.25   \n",
       "3  2015     1  11 Ave & W 27 St     73    6.0    6.525      6.45       -1.25   \n",
       "4  2015     1  11 Ave & W 41 St    133    6.0    6.525      6.45       -1.25   \n",
       "\n",
       "   humidity  week1anzahl  \n",
       "0      71.0          0.0  \n",
       "1      71.0          0.0  \n",
       "2      71.0          0.0  \n",
       "3      71.0          0.0  \n",
       "4      71.0          0.0  "
      ]
     },
     "execution_count": 23,
     "metadata": {},
     "output_type": "execute_result"
    }
   ],
   "source": [
    "local.head()"
   ]
  },
  {
   "cell_type": "code",
   "execution_count": 25,
   "id": "61e753f2",
   "metadata": {},
   "outputs": [],
   "source": [
    "local.to_csv('ausleihen_wetter_vorwoche.csv', index=False)"
   ]
  },
  {
   "cell_type": "code",
   "execution_count": null,
   "id": "6cb74aa6",
   "metadata": {},
   "outputs": [],
   "source": []
  }
 ],
 "metadata": {
  "kernelspec": {
   "display_name": "Python 3 (ipykernel)",
   "language": "python",
   "name": "python3"
  },
  "language_info": {
   "codemirror_mode": {
    "name": "ipython",
    "version": 3
   },
   "file_extension": ".py",
   "mimetype": "text/x-python",
   "name": "python",
   "nbconvert_exporter": "python",
   "pygments_lexer": "ipython3",
   "version": "3.8.10"
  }
 },
 "nbformat": 4,
 "nbformat_minor": 5
}
