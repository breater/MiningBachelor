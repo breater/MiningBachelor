{
 "cells": [
  {
   "cell_type": "code",
   "execution_count": 2,
   "id": "3cb27207",
   "metadata": {},
   "outputs": [],
   "source": [
    "import pandas as pd\n",
    "import numpy as np\n",
    "import matplotlib.pyplot as plt\n",
    "import tensorflow.keras as keras\n",
    "import tensorflow  as tf\n",
    "from tensorflow.keras.models import Sequential\n",
    "from tensorflow.keras.layers import *\n",
    "from tensorflow.keras.optimizers import *\n",
    "\n",
    "from tensorflow.keras.callbacks import *\n",
    "\n",
    "from sklearn.metrics import mean_absolute_error\n",
    "from sklearn.compose import make_column_transformer\n",
    "from sklearn.preprocessing import MinMaxScaler, OneHotEncoder\n",
    "from sklearn.model_selection import train_test_split\n",
    "\n",
    "import os"
   ]
  },
  {
   "cell_type": "code",
   "execution_count": 5,
   "id": "03315e7b",
   "metadata": {},
   "outputs": [
    {
     "data": {
      "text/html": [
       "<div>\n",
       "<style scoped>\n",
       "    .dataframe tbody tr th:only-of-type {\n",
       "        vertical-align: middle;\n",
       "    }\n",
       "\n",
       "    .dataframe tbody tr th {\n",
       "        vertical-align: top;\n",
       "    }\n",
       "\n",
       "    .dataframe thead th {\n",
       "        text-align: right;\n",
       "    }\n",
       "</style>\n",
       "<table border=\"1\" class=\"dataframe\">\n",
       "  <thead>\n",
       "    <tr style=\"text-align: right;\">\n",
       "      <th></th>\n",
       "      <th>start</th>\n",
       "      <th>week</th>\n",
       "      <th>station1</th>\n",
       "      <th>count</th>\n",
       "    </tr>\n",
       "  </thead>\n",
       "  <tbody>\n",
       "    <tr>\n",
       "      <th>0</th>\n",
       "      <td>2015</td>\n",
       "      <td>1</td>\n",
       "      <td>1 Ave &amp; E 15 St</td>\n",
       "      <td>257</td>\n",
       "    </tr>\n",
       "    <tr>\n",
       "      <th>1</th>\n",
       "      <td>2015</td>\n",
       "      <td>1</td>\n",
       "      <td>1 Ave &amp; E 18 St</td>\n",
       "      <td>119</td>\n",
       "    </tr>\n",
       "    <tr>\n",
       "      <th>2</th>\n",
       "      <td>2015</td>\n",
       "      <td>1</td>\n",
       "      <td>1 Ave &amp; E 30 St</td>\n",
       "      <td>147</td>\n",
       "    </tr>\n",
       "    <tr>\n",
       "      <th>3</th>\n",
       "      <td>2015</td>\n",
       "      <td>1</td>\n",
       "      <td>1 Ave &amp; E 44 St</td>\n",
       "      <td>73</td>\n",
       "    </tr>\n",
       "    <tr>\n",
       "      <th>4</th>\n",
       "      <td>2015</td>\n",
       "      <td>1</td>\n",
       "      <td>10 Ave &amp; W 28 St</td>\n",
       "      <td>157</td>\n",
       "    </tr>\n",
       "  </tbody>\n",
       "</table>\n",
       "</div>"
      ],
      "text/plain": [
       "   start  week          station1  count\n",
       "0   2015     1   1 Ave & E 15 St    257\n",
       "1   2015     1   1 Ave & E 18 St    119\n",
       "2   2015     1   1 Ave & E 30 St    147\n",
       "3   2015     1   1 Ave & E 44 St     73\n",
       "4   2015     1  10 Ave & W 28 St    157"
      ]
     },
     "execution_count": 5,
     "metadata": {},
     "output_type": "execute_result"
    }
   ],
   "source": [
    "frame = pd.read_csv(r'ausleihe2.csv')\n",
    "df = pd.DataFrame(frame)\n",
    "col = list(df.columns.values)\n",
    "test = pd.DataFrame(df)\n",
    "df.head()"
   ]
  },
  {
   "cell_type": "code",
   "execution_count": 7,
   "id": "7fe4a6e9",
   "metadata": {},
   "outputs": [
    {
     "name": "stdout",
     "output_type": "stream",
     "text": [
      "['1 Ave & E 15 St', '1 Ave & E 18 St', '1 Ave & E 30 St', '1 Ave & E 44 St', '10 Ave & W 28 St', '11 Ave & W 27 St', '11 Ave & W 41 St', '11 Ave & W 59 St', '12 Ave & W 40 St', '2 Ave & E 31 St', '2 Ave & E 58 St', '3 Ave & Schermerhorn St', '5 Ave & E 29 St', '6 Ave & Broome St', '6 Ave & Canal St', '6 Ave & W 33 St', '8 Ave & W 31 St', '8 Ave & W 33 St', '8 Ave & W 52 St', '9 Ave & W 14 St', '9 Ave & W 16 St', '9 Ave & W 18 St', '9 Ave & W 22 St', '9 Ave & W 45 St', 'Adelphi St & Myrtle Ave', 'Allen St & E Houston St', 'Allen St & Hester St', 'Allen St & Rivington St', 'Ashland Pl & Hanson Pl', 'Atlantic Ave & Fort Greene Pl', 'Atlantic Ave & Furman St', 'Avenue D & E 12 St', 'Avenue D & E 3 St', 'Avenue D & E 8 St', 'Bank St & Hudson St', 'Bank St & Washington St', 'Barclay St & Church St', 'Barrow St & Hudson St', 'Bayard St & Baxter St', 'Bedford Ave & S 9th St', 'Bialystoker Pl & Delancey St', 'Bond St & Schermerhorn St', 'Broad St & Bridge St', 'Broadway & Battery Pl', 'Broadway & Berry St', 'Broadway & E 14 St', 'Broadway & E 22 St', 'Broadway & W 24 St', 'Broadway & W 29 St', 'Broadway & W 32 St', 'Broadway & W 36 St', 'Broadway & W 37 St', 'Broadway & W 39 St', 'Broadway & W 41 St', 'Broadway & W 49 St', 'Broadway & W 51 St', 'Broadway & W 53 St', 'Broadway & W 55 St', 'Broadway & W 58 St', 'Broadway & W 60 St', 'Bus Slip & State St', 'Cadman Plaza E & Red Cross Pl', 'Cadman Plaza E & Tillary St', 'Cadman Plaza West & Montague St', 'Canal St & Rutgers St', 'Carlton Ave & Park Ave', 'Carmine St & 6 Ave', 'Catherine St & Monroe St', 'Central Park S & 6 Ave', 'Centre St & Chambers St', 'Centre St & Worth St', 'Cherry St', 'Christopher St & Greenwich St', 'Clark St & Henry St', 'Clermont Ave & Lafayette Ave', 'Clermont Ave & Park Ave', 'Cleveland Pl & Spring St', 'Cliff St & Fulton St', 'Clinton Ave & Flushing Ave', 'Clinton Ave & Myrtle Ave', 'Clinton St & Grand St', 'Clinton St & Joralemon St', 'Clinton St & Tillary St', 'Columbia Heights & Cranberry St', 'Columbia St & Rivington St', 'Concord St & Bridge St', 'Cumberland St & Lafayette Ave', 'DeKalb Ave & Hudson Ave', 'DeKalb Ave & S Portland Ave', 'DeKalb Ave & Skillman St', 'DeKalb Ave & Vanderbilt Ave', 'Dean St & 4 Ave', 'Division St & Bowery', 'Duane St & Greenwich St', 'Duffield St & Willoughby St', 'E 10 St & 5 Ave', 'E 10 St & Avenue A', 'E 11 St & 1 Ave', 'E 11 St & 2 Ave', 'E 11 St & Broadway', 'E 12 St & 3 Ave', 'E 13 St & Avenue A', 'E 14 St & Avenue B', 'E 15 St & 3 Ave', 'E 16 St & 5 Ave', 'E 16 St & Irving Pl', 'E 17 St & Broadway', 'E 19 St & 3 Ave', 'E 2 St & 2 Ave', 'E 2 St & Avenue B', 'E 2 St & Avenue C', 'E 20 St & 2 Ave', 'E 20 St & FDR Drive', 'E 20 St & Park Ave', 'E 23 St & 1 Ave', 'E 24 St & Park Ave S', 'E 25 St & 1 Ave', 'E 25 St & 2 Ave', 'E 27 St & 1 Ave', 'E 3 St & 1 Ave', 'E 30 St & Park Ave S', 'E 31 St & 3 Ave', 'E 32 St & Park Ave', 'E 33 St & 2 Ave', 'E 33 St & 5 Ave', 'E 37 St & Lexington Ave', 'E 39 St & 2 Ave', 'E 39 St & 3 Ave', 'E 4 St & 2 Ave', 'E 40 St & 5 Ave', 'E 43 St & 2 Ave', 'E 43 St & Vanderbilt Ave', 'E 45 St & 3 Ave', 'E 47 St & 1 Ave', 'E 47 St & 2 Ave', 'E 47 St & Park Ave', 'E 48 St & 3 Ave', 'E 48 St & Madison Ave', 'E 5 St & Avenue C', 'E 51 St & 1 Ave', 'E 51 St & Lexington Ave', 'E 52 St & 2 Ave', 'E 53 St & Lexington Ave', 'E 53 St & Madison Ave', 'E 55 St & 2 Ave', 'E 55 St & Lexington Ave', 'E 56 St & 3 Ave', 'E 56 St & Madison Ave', 'E 58 St & 3 Ave', 'E 59 St & Sutton Pl', 'E 6 St & Avenue B', 'E 6 St & Avenue D', 'E 7 St & Avenue A', 'E 9 St & Avenue C', 'Elizabeth St & Hester St', 'Emerson Pl & Myrtle Ave', 'FDR Drive & E 35 St', 'Flushing Ave & Carlton Ave', 'Forsyth St & Broome St', 'Forsyth St & Canal St', 'Franklin Ave & Myrtle Ave', 'Franklin St & W Broadway', 'Front St & Gold St', 'Front St & Maiden Ln', 'Front St & Washington St', 'Fulton St & Clermont Ave', 'Fulton St & Grand Ave', 'Fulton St & Rockwell Pl', 'Fulton St & Waverly Ave', 'Fulton St & William St', 'Gallatin Pl & Livingston St', 'Grand Army Plaza & Central Park S', 'Grand St & Greene St', 'Grand St & Havemeyer St', 'Great Jones St', 'Greenwich Ave & 8 Ave', 'Greenwich Ave & Charles St', 'Greenwich St & N Moore St', 'Greenwich St & Warren St', 'Hancock St & Bedford Ave', 'Hanover Pl & Livingston St', 'Harrison St & Hudson St', 'Henry St & Atlantic Ave', 'Henry St & Grand St', 'Henry St & Poplar St', 'Hicks St & Montague St', 'Howard St & Centre St', 'Hudson St & Reade St', 'Jay St & Tech Pl', 'John St & William St', 'Johnson St & Gold St', 'Joralemon St & Adams St', 'Kent Ave & S 11 St', 'LaGuardia Pl & W 3 St', 'Lafayette Ave & Classon Ave', 'Lafayette Ave & Fort Greene Pl', 'Lafayette Ave & St James Pl', 'Lafayette St & E 8 St', 'Lafayette St & Jersey St', 'Laight St & Hudson St', 'Lawrence St & Willoughby St', 'Lefferts Pl & Franklin Ave', 'Leonard St & Church St', 'Lexington Ave & Classon Ave', 'Lexington Ave & E 24 St', 'Lexington Ave & E 26 St', 'Liberty St & Broadway', 'Lispenard St & Broadway', 'Little West St & 1 Pl', 'MacDougal St & Prince St', 'MacDougal St & Washington Sq', 'Macon St & Nostrand Ave', 'Madison St & Clinton St', 'Madison St & Montgomery St', 'Maiden Ln & Pearl St', 'Market St & Cherry St', 'Mercer St & Bleecker St', 'Mercer St & Spring St', 'Metropolitan Ave & Bedford Ave', 'Monroe St & Bedford Ave', 'Monroe St & Classon Ave', 'Mott St & Prince St', 'Murray St & West St', 'Myrtle Ave & St Edwards St', 'Nassau St & Navy St', 'Norfolk St & Broome St', 'Old Fulton St', 'Old Slip & Front St', 'Park Ave & St Edwards St', 'Pearl St & Anchorage Pl', 'Pearl St & Hanover Square', 'Peck Slip & Front St', 'Perry St & Bleecker St', 'Pershing Square North', 'Pershing Square South', 'Pike St & E Broadway', 'Pike St & Monroe St', 'Pitt St & Stanton St', 'Railroad Ave & Kay Ave', 'Reade St & Broadway', 'Rivington St & Chrystie St', 'Rivington St & Ridge St', 'S 3 St & Bedford Ave', 'S 4 St & Wythe Ave', 'S 5 Pl & S 4 St', 'S Portland Ave & Hanson Pl', 'Sands St & Navy St', 'Shevchenko Pl & E 7 St', 'South End Ave & Liberty St', 'South St & Gouverneur Ln', 'South St & Whitehall St', 'Spruce St & Nassau St', 'St James Pl & Oliver St', 'St James Pl & Pearl St', 'St Marks Pl & 1 Ave', 'St Marks Pl & 2 Ave', 'Stanton St & Chrystie St', 'Stanton St & Mangin St', 'State St & Smith St', 'Suffolk St & Stanton St', 'Sullivan St & Washington Sq', 'University Pl & E 14 St', 'Vesey Pl & River Terrace', 'W 11 St & 6 Ave', 'W 13 St & 6 Ave', 'W 13 St & 7 Ave', 'W 14 St & The High Line', 'W 15 St & 7 Ave', 'W 16 St & The High Line', 'W 17 St & 8 Ave', 'W 18 St & 6 Ave', 'W 20 St & 11 Ave', 'W 20 St & 7 Ave', 'W 20 St & 8 Ave', 'W 21 St & 6 Ave', 'W 22 St & 10 Ave', 'W 22 St & 8 Ave', 'W 24 St & 7 Ave', 'W 25 St & 6 Ave', 'W 26 St & 10 Ave', 'W 26 St & 8 Ave', 'W 27 St & 7 Ave', 'W 29 St & 9 Ave', 'W 31 St & 7 Ave', 'W 33 St & 7 Ave', 'W 34 St & 11 Ave', 'W 37 St & 10 Ave', 'W 37 St & 5 Ave', 'W 38 St & 8 Ave', 'W 39 St & 9 Ave', 'W 4 St & 7 Ave S', 'W 41 St & 8 Ave', 'W 42 St & 8 Ave', 'W 43 St & 10 Ave', 'W 43 St & 6 Ave', 'W 44 St & 5 Ave', 'W 45 St & 6 Ave', 'W 45 St & 8 Ave', 'W 46 St & 11 Ave', 'W 47 St & 10 Ave', 'W 49 St & 8 Ave', 'W 51 St & 6 Ave', 'W 52 St & 11 Ave', 'W 52 St & 5 Ave', 'W 52 St & 9 Ave', 'W 53 St & 10 Ave', 'W 54 St & 9 Ave', 'W 56 St & 10 Ave', 'W 56 St & 6 Ave', 'W 59 St & 10 Ave', 'W Broadway & Spring St', 'W Houston St & Hudson St', 'Warren St & Church St', 'Washington Ave & Greene Ave', 'Washington Ave & Park Ave', 'Washington Park', 'Washington Pl & 6 Ave', 'Washington Pl & Broadway', 'Washington Square E', 'Washington St & Gansevoort St', 'Water - Whitehall Plaza', 'Watts St & Greenwich St', 'West St & Chambers St', 'West Thames St', 'William St & Pine St', 'Willoughby Ave & Hall St', 'Willoughby Ave & Walworth St', 'Willoughby St & Fleet St', 'Wythe Ave & Metropolitan Ave', 'York St & Jay St', 'Cadman Plaza W & Pierrepont St', 'NYCBS Depot - SSP', 'W 13 St & 5 Ave', 'Bedford Ave & S 9 St', 'Carlton Ave & Flushing Ave', 'E 60 St & York Ave', 'Greenwich St & W Houston St', 'Brooklyn Bridge Park - Pier 2', 'E.T. Bike-In Movie Valet Station ', 'Mobile 01', 'Center Blvd\\xa0& Borden Ave', 'Fulton St & Washington Ave', 'Lexington Ave & E 29 St', 'Soissons Landing', 'Yankee Ferry Terminal', '21 St & Queens Plaza North', '44 Dr & Jackson Ave', '45 Rd & 11 St', '46 Ave & 5 St', '9 St & 44 Rd', 'Banker St & Meserole Ave', 'Franklin St & Dupont St', 'Greenpoint Ave & Manhattan Ave', 'India St & Manhattan Ave', 'Jackson Ave & 46 Rd', 'McGuinness Blvd & Eagle St', 'Meserole Ave & Manhattan Ave', 'Milton St & Franklin St', 'Nassau Ave & Russell St', 'Norman Ave & Leonard St', 'Queens Plaza North & Crescent St', 'Vernon Blvd & 50 Ave', '31 St & Thomson Ave', 'Bedford Ave & Nassau Ave', 'Berry St & N 8 St', 'Boerum St & Broadway', 'Broadway & Whipple St', 'Bushwick Ave & Powers St', 'Devoe St & Leonard St', 'Division Ave & Hooper St', 'Division Ave & Marcy Ave', 'Driggs Ave & Lorimer St', 'Driggs Ave & N Henry St', 'Frost St & Meeker St', 'Fulton St & Broadway', 'Graham Ave & Grand St', 'Graham Ave & Herbert St', 'Graham Ave & Withers St', 'Humboldt St & Varet St', 'Kent Ave & N 7 St', 'Leonard St & Bayard St', 'Leonard St & Boerum St', 'Leonard St & Grand St', 'Lorimer St & Broadway', 'McKibbin St & Manhattan Ave', 'Metropolitan Ave & Meeker Ave', 'Montrose Ave & Bushwick Ave', 'Myrtle Ave & Lewis Ave', 'Myrtle Ave & Marcy Ave', 'N 11 St & Wythe Ave', 'N 12 St & Bedford Ave', 'N 8 St & Driggs Ave', 'N Henry St & Richardson St', 'Nostrand Ave & Myrtle Ave', 'Park Ave & Marcus Garvey Blvd', 'Scholes St & Manhattan Ave', 'Stagg St & Union Ave', 'Throop Ave & Myrtle Ave', 'Tompkins Ave & Hopkins St', 'Union Ave & Jackson St', 'Union Ave & Wallabout St', 'Willoughby Ave & Tompkins Ave', '21 St & 43 Ave', 'Albany Ave & Fulton St', 'Cambridge Pl & Gates Ave', 'E 55 St & 3 Ave', 'Fulton St & Utica Ave', 'Graham Ave & Conselyea St', 'Greene Ave & Nostrand Ave', 'Greene Ave & Throop Ave', 'Halsey St & Tompkins Ave', 'Hanson Pl & St Felix St', 'India St & East River', 'Kingston Ave & Herkimer St', 'Kosciuszko St & Nostrand Ave', 'Kosciuszko St & Tompkins Ave', 'Lewis Ave & Decatur St', 'Lewis Ave & Kosciuszko St', 'Lewis Ave & Madison St', 'Marcus Garvey Blvd & Macon St', 'Marcy Ave & Lafayette Ave', 'N 15 St & Wythe Ave', 'N 6 St & Bedford Ave', 'Pulaski St & Marcus Garvey Blvd', 'Putnam Ave & Nostrand Ave', 'Putnam Ave & Throop Ave', '1 Ave & E 62 St', '1 Ave & E 68 St', '3 Ave & E 62 St', 'Central Park West & W 68 St', 'Central Park West & W 72 St', 'E 59 St & Madison Ave', 'E 67 St & Lexington Ave', 'E 67 St & Park Ave', 'W 13 St & Hudson St', 'W 63 St & Broadway', 'W 64 St & West End Ave', 'W 67 St & Broadway', '1 Ave & E 78 St', '47 Ave & 31 St', 'Central Park West & W 76 St', 'E 72 St & Park Ave', 'E 72 St & York Ave', 'E 75 St & 3 Ave', 'E 82 St & 2 Ave', 'Riverside Dr & W 78 St', 'Riverside Dr & W 82 St', 'W 70 St & Amsterdam Ave', 'W 74 St & Columbus Ave', 'W 84 St & Columbus Ave', '5 Ave & E 63 St', 'Columbus Ave & W 72 St', 'E 81 St & 3 Ave', 'E 81 St & Park Ave', 'E 84 St & 1 Ave', 'E 84 St & Park Ave', 'E 85 St & 3 Ave', 'E 85 St & York Ave', 'W 84 St & Broadway', 'Hope St & Union Ave', 'Penn Station Valet', 'Riverside Dr & W 72 St ', 'Roebling St & N 4 St', 'S 4 St & Rodney St', '5 Ave & E 73 St', 'Amsterdam Ave & W 73 St', 'Bond St & Fulton St', 'Riverside Dr & W 72 St', 'W 82 St & Central Park West', '48 Ave & 5 St', '5 Ave & E 78 St', 'Central Park West & W 85 St', 'E 48 St & 5 Ave', 'East End Ave & E 86 St', 'Huron St & Franklin St', 'Marcy Ave & MacDonough St', 'Riverside Blvd & W 67 St', 'W 76 St & Columbus Ave', 'W 78 St & Broadway', 'Amsterdam Ave & W 82 St', 'E 41 St & Madison Ave', 'Lexington Ave & E 63 St', 'E 40 St & Madison Ave', '21 St & 41 Ave', 'Leonard St & Manhattan Ave', 'Broadway & Roebling St', 'E 77 St & 3 Ave', 'E 81 St & York Ave', 'Leonard St & Meeker Ave', 'PABT Valet', 'Union Ave & N 12 St', 'Center Blvd & Borden Ave', 'E 80 St & 2 Ave', 'E 71 St & 2 Ave', 'E 77 St & Park Ave', 'Monroe St & Tompkins Ave', 'Schermerhorn St & Court St', 'E 58 St & 1 Ave', 'University Pl & E 8 St', 'Allen St & Stanton St', 'KentAve&N7 St', 'W 42 St & Dyer Ave', 'Montague St & Clinton St', 'Nassau Ave & Newell St', '8 Ave & W 31 St N', 'Verona Pl & Fulton St', 'E 68 St & 3 Ave', '3969.TEMP (Bike The Branches - Central Branch)', 'Bike The Branches - Central Branch', 'Bike The Branches - Red Hook Branch', '3 Ave & E 71 St', 'Adventures NYC', 'Pier 40 - Hudson River Park', '9 Ave & W 28 St', 'Mercer St & Bleecker St S', '1 Ave & E 16 St', 'Greenwich St & North Moore St', 'Lafayette St & Jersey St N', 'NYCBS Depot - STY', 'Cooper Square & E 7 St', 'E 61 St & Park Ave', 'Kiosk in a box Motivate', 'NYCBS Depot - FAR', '8D OPS 01', 'NYCBS Depot - PIT', 'SSP Tech Workshop', 'W 27 St & 10 Ave', 'Kiosk in a box Deployment', '1 Ave & E 94 St', '2 Ave  & E 104 St', '5 Ave & E 88 St', '5 Ave & E 93 St', 'Central Park W & W 96 St', 'Columbus Ave & W 95 St', 'E 88 St & 1 Ave', 'E 88 St & Park Ave', 'E 89 St & 3 Ave', 'E 89 St & York Ave', 'E 91 St & Park Ave', 'E 95 St & 3 Ave', 'E 97 St & Madison Ave', 'Riverside Dr & W 91 St', 'W 87 St  & Amsterdam Ave', 'W 87 St & West End Ave', 'W 95 St & Broadway', 'West End Ave & W 94 St', '2 Ave & E 105 St', '3 Ave & E 100 St', '5 Ave & E 103 St', 'Central Park West & W 100 St', 'Central Park West & W 102 St', 'Columbus Ave & W 103 St', 'E 102 St & 1 Ave', 'E 102 St & Park Ave', 'E 106 St & 1 Ave', 'E 106 St & Madison Ave', 'E 109 St & 3 Ave', 'E 110 St & Madison Ave', 'E 91 St & 2 Ave', 'E 97 St & 3 Ave', 'Madison Ave & E 99 St', 'W 100 St & Broadway', 'W 104 St & Amsterdam Ave', 'W 106 St & Amsterdam Ave', 'W 106 St & Central Park West', 'W 107 St & Columbus Ave', 'W 90 St & Amsterdam Ave', '7 Ave & Park Pl', 'Baltic St & 5 Ave', 'Bond St & Bergen St', 'Congress St & Clinton St', 'Douglass St & 4 Ave', 'E 103 St & Lexington Ave', 'Prospect Pl & 6 Ave', 'Riverside Dr & W 104 St', 'West End Ave & W 107 St', 'Wyckoff St & 3 Ave', '10 St & 5 Ave', '10 St & 7 Ave', '12 St & 4 Ave', '14 St & 7 Ave', '2 Ave & 9 St', '3 St & 3 Ave', '4 Ave & 9 St', '5 Ave & 3 St', '5 St & 6 Ave', '6 Ave & 12 St', '6 Ave & 9 St', '6 St & 7 Ave', '7 St & 5 Ave', 'Berkeley Pl & 6 Ave', 'Butler St & Court St', 'Carroll St & Columbia St', 'Cathedral Pkwy & Broadway', 'Clinton St & 4 Place', 'Clinton St & Union St', 'Columbia St & Degraw St', 'Columbia St & Kane St', 'Columbia St & Lorraine St', 'Commerce St & Van Brunt St', 'Court St & State St', 'Douglass St & 3 Ave', 'Henry St & Bay St', 'Henry St & Degraw St', 'Henry St & W 9 St', 'Kane St & Clinton St', 'Richards St & Delavan St', 'Smith St & 9 St', 'Union St & 4 Ave', '1 Pl & Clinton St', '14 St & 5 Ave', '3 Ave & 14 St', '3 St & Hoyt St', '8 Ave & W 16 St', 'Carroll St & 5 Ave', 'Carroll St & 6 Ave', 'Carroll St & Bond St', 'Carroll St & Smith St', 'Central Park North & Adam Clayton Powell Blvd', 'Clinton St & Centre St', 'Columbia St & W 9 St', 'Court St & Nelson St', 'Dean St & Hoyt St', 'Degraw St & Smith St', 'Hoyt St & Warren St', 'Pioneer St & Richards St', 'President St & Henry St', 'Prospect Park West & 8 St', 'Reed St & Van Brunt St', 'Smith St & 3 St', 'Van Brunt St & Wolcott St', 'W 92 St & Broadway', 'Warren St & Court St', 'Wolcott St & Dwight St', '3 St & 7 Ave', '3 St & Prospect Park West', 'E 66 St & Madison Ave', 'E 68 St & Madison Ave', 'Hanson Pl & Ashland Pl', 'Pioneer St & Van Brunt St', 'Plaza St West & Flatbush Ave', 'Richardson St & N Henry St', 'W 89 St & Columbus Ave', 'West Drive & Prospect Park West', '2 Ave & E 99 St', '78 St & 2 Ave', 'Amsterdam Ave & W 66 St', 'Amsterdam Ave & W 79 St', 'Coffey St & Conover St', 'E 106 St & Lexington Ave', 'E 35 St & 3 Ave', 'E 76 St & Park Ave', 'Grand Army Plaza & Plaza St West', 'Pacific St & Nevins St', 'W 100 St & Manhattan Ave', '7 St & 3 Ave', 'Bergen St & Flatbush Ave', 'Bergen St & Smith St', 'Bike in Movie Night | Prospect Park Bandshell', 'E 74 St & 1 Ave', 'Garfield Pl & 8 Ave', '3 Ave & E 72 St', 'Degraw St & Hoyt St', 'E 65 St & 2 Ave', 'E 78 St & 2 Ave', 'Grand St & Elizabeth St', 'Greenwich St & Hubert St', 'Madison Ave & E 82 St', 'W 88 St & West End Ave', 'Berkeley Pl & 7 Ave', 'Union St & Nevins St', 'E 76 St & 3 Ave', 'Fulton St & Adams St', 'NYCBS Depot BAL - DYR', '4 Ave & 2 St', 'Bressler', 'E 2 St & 2 Ave E', 'W 52 St & 6 Ave', 'Sigourney St & Columbia St', 'E 71 St & 1 Ave', 'NYCBS Depot - STY - Valet Scan', 'Riverside Dr & W 89 St', '2 Ave & E 96 St', 'Bayard St & Leonard St', 'Devoe St & Lorimer St', 'Dwight St & Van Dyke St', 'Penn Station Valet - Valet Scan', 'Eckford St & Engert Ave', 'Leonard St & Maujer St', 'Schermerhorn St & 3 Ave', '10 Hudson Yards', 'Jackson St & Leonard St', 'Broadway & W 56 St', 'E 53 St & 3 Ave', 'Norman Ave & Leonard St - 2', 'E 44 St & 2 Ave', 'E 58 St & Madison Ave', 'Industry City, Building 1 Basement', 'GOW Tech Shop', 'W 37 St & Broadway', 'NYCBS Depot - GOW', 'W 55 St & 6 Ave', 'Murray St & Greenwich St', 'W 45 St & 6 Ave (1)', 'NYCBS Depot - STY - Garage 4', 'India St & West St', 'E 82 St & East End Ave', '6 Ave & Spring St', 'Gowanus Tech Station', 'LPI Facility', 'W 15 St & 10 Ave', '2 Ave & 36 St - Citi Bike HQ at Industry City', '39 St & 2 Ave - Citi Bike HQ at Industry City', 'E 93 St & 2 Ave', 'Picnic Point', 'Expansion Tech Station', 'NYCBS Depot - RIS', '8D QC Station 01', 'NYCBS DEPOT - DELANCEY', 'Gold St & Frankfort St', 'W Broadway & Spring Street', 'Schermerhorn St & Bond St', '1 Ave & E 110 St', '3 Ave & E 112 St', '333 Johnson TEST 1', 'Adam Clayton Powell Blvd & W 115 St', 'Amsterdam Ave & W 119 St', 'E 114 St & 1 Ave', 'E 115 St & Lexington Ave', 'E 115 St & Madison Ave', 'E 116 St & 2 Ave', 'E 118 St & Madison Ave', 'E 12 St & Avenue B', 'Frederick Douglass Blvd & W 112 St', 'Lenox Ave & W 115 St', 'Lexington Ave & E 111 St', 'Pleasant Ave & E 116 St', 'W 113 St & Broadway', 'W 116 St & Broadway', '2 Ave & E 122 St', '37 Ave & 35 St', 'Adam Clayton Powell Blvd & W 123 St', 'Broadway & Moylan Pl', 'Broadway & W 122 St', 'E 118 St & 3 Ave', 'E 118 St & Park Ave', 'E 123 St & Lexington Ave', 'Frederick Douglass Blvd & W 129 St', 'Lenox Ave & W 126 St', 'Lenox Ave & W 130 St', 'Lexington Ave & E 120 St', 'Madison Ave & E 120 St', 'Morningside Ave & W 123 St', 'Mt Morris Park W & W 120 St', 'St Nicholas Ave & Manhattan Ave', 'St. Nicholas Ave & W 126 St', 'Vernon Blvd & 41 Rd', 'W 110 St & Amsterdam Ave', 'W 36 St & 9 Ave', '11 St & 35 Ave', '2 Ave & E 104 St', '21 St & 31 Dr', '21 St & 36 Ave', '24 St & 41 Ave', '28 St & 36 Ave', '28 St & 38 Ave', '31 Ave & 30 St', '31 Ave & 34 St', '31 Ave & Crescent St', '31 St & Broadway', '34 Ave & 13 St', '34 Ave & 21 St', '34 Ave & 38 St', '34 St & 35 Ave', '35 Ave & 37 St', '35 St & 34 Ave', '36 Ave & 10 St', 'Amsterdam Ave & W 125 St', 'Broadway & 12 St', 'Cooper Square & Astor Pl', 'Crescent St & 35 Ave', 'Crescent St & Broadway', 'Expansion Warehouse 333 Johnson Ave', \"Hs Don't Use\", \"JSQ Don't Use\", 'Newton Rd & 44 St', 'Park Ave & E 124 St', 'Vernon Blvd & 10 St', 'Vernon Blvd & 30 Rd', 'Vernon Blvd & 31 Ave', 'W 87 St & Amsterdam Ave', \"WS Don't Use\", '19 St & 24 Ave', '21 St & Hoyt Ave S', '23 Ave & 27 St', '24 Ave & 29 St', '27 Ave & 4 St', '27 Ave & 9 St', '30 Ave & 21 St', '31 Ave & 14 St', '31 St & 23 Ave', '31 St & Astoria Blvd', '35 St & Broadway', '37 St & 24 Ave', '40 Ave & 9 St', '43 St & Broadway', '5 Ave & E 126 St', 'Astoria Park S & Shore Blvd', 'Broadway & W 25 St', 'Broadway & W 38 St', 'Crescent St & 30 Ave', 'Crescent St & Ditmars Blvd', 'Ditmars Blvd & 19 St', 'E 98 St & Lexington Ave', 'Lenox Ave & W 111 St', 'Newtown Ave & 23 St', 'Steinway St & 23 Ave', 'Steinway St & 28 Ave', '24 Ave & 26 St', '28 Ave & 35 St', '28 St & 41 Ave', 'Bergen St & Vanderbilt Ave', 'Carlton Ave & Dean St', 'Carroll St & Franklin Ave', 'Classon Ave & St Marks Ave', 'Eastern Pkwy & Franklin Ave', 'Franklin Ave & Empire Blvd', 'Franklin Ave & St Marks Ave', 'Grand Ave & Bergen St', 'Lincoln Pl & Classon Ave', 'Montgomery St & Franklin Ave OLD', 'Pacific St & Bedford Ave', 'Pacific St & Classon Ave', 'Park Pl & Vanderbilt Ave', 'Prospect Pl & Underhill Ave', 'St Johns Pl & Washington Ave', 'Sterling Pl & Bedford Ave', 'Sullivan Pl & Bedford Ave', 'Underhill Ave & Lincoln Pl', 'Underhill Ave & Pacific St', 'Van Dyke St & Van Brunt St', '11 St & 43 Ave', '21 St & 38 Ave', '27 St & Hunter St', '31 St & Hoyt Ave N', '44 Dr & 21 St', '49 Ave & 21 St', 'Adam Clayton Powell Blvd & W 118 St', 'Center Blvd & 48 Ave', 'E 41 St & 5 Ave', 'Eastern Pkwy & Washington Ave', 'Frederick Douglass Blvd & W 117 St', 'Park Pl & Franklin Ave', 'Sterling St & Bedford Ave', 'Union St & Bedford Ave', 'W 116 St & Amsterdam Ave', '28 St & 40 Ave', 'Carroll St & Washington Ave', 'E 118 St & 1 Ave', 'E 128 St & Madison Ave', 'Pleasant Ave & E 120 St', 'Rogers Ave & Sterling St', 'W 120 St & Claremont Ave', '35 Ave & 10 St', '48 Ave & 30 Pl', 'Bedford Ave & Bergen St', 'Crescent St & 34 Ave', 'Vernon Blvd & 47 Rd', 'Convent Ave & W 129 St', 'Flushing Ave & Vanderbilt Ave', 'Lexington Ave & E 127 St', '8D Mobile 01', 'W 129 St & Convent Ave', '31 St & 35 Ave', '31 St & Northern Blvd', 'Crown St & Bedford Ave', 'Morningside Dr & Amsterdam Ave', '28 Ave & 44 St', '3 Ave & E 95 St', '31 Ave & Steinway St', '31 St & Newtown Ave', '40 Ave & Crescent St', '5 St & 51 Ave', '5 St & Market St', 'Adam Clayton Powell Blvd & W 126 St', 'Cliff St & Fulton St_1', 'Dean St & Franklin Ave', 'Division Av & Hooper St', 'Driggs Ave & N 9 St', 'E 11 St & Avenue B', 'E 2 St & Avenue A', 'E 33 St & 1 Ave', 'E 43 St & 5 Ave', 'E 81 St & 2 Ave', 'E 98 St & Park Ave', 'Frederick Douglass Blvd & W 115 St', 'Gansevoort St & Hudson St', 'Henry St & W 9 St [old]', 'Jay St & York St', 'Lenox Ave & W 117 St', 'Leonard St & Nassau Ave', 'Montgomery St & Franklin Ave', 'N 11 St & Kent Ave', 'North Moore St & Greenwich St', 'Park Pl & Church St', 'S 5 Pl & S 5 St', 'S Portland Ave & Atlantic Ave', 'Sterling Pl & 7 Ave', 'Van Brunt St & Van Dyke St', 'W 104 St & Amsterdam Ave - 1', 'W 12 St & W 4 St', 'W 15 St & 6 Ave', 'W 16 St & 8 Ave', 'W 17 St & 9 Ave', 'W 18 St & 9 Ave', 'W 35 St & Dyer Ave', 'W 45 St & 6 Ave (OLD)', 'W 50 St & 9 Ave', 'W 64 St & Thelonious Monk Circle', 'Wyckoff St & Bond St', 'Prototype Lab Motivate Headquarters', 'Apache', 'Smart Cities Conference', '32 St & 30 Ave', 'Prospect Park - 5 Year Anniversary Celebration', '2 Ave & E 55 St', 'E 5 St & 2 Ave', 'E 87 St & 3 Ave', '47 Ave & Skillman Ave', 'Thompson St & Bleecker St', 'W 13 St & 5 Ave -moved to 5947.04', 'old - E 13 St & Avenue A', 'Handlebar @ Gowanus', 'Henry St & W 9 St (OLD)', '58th St Depot', '2 Ave & E 72 St', '7 Ave & Central Park South', 'Cadman Plaza E & Johnson St', 'Center Blvd & 51 Ave', 'Pierrepont St & Monroe Pl', 'Frost St & Meeker Ave', '36 Ave & 31 St', 'Avenue C & E 18 St', 'Stanton St & Norfolk St', 'E 58 St & 1 Ave (NE Corner)', 'E 58 St &  1 Ave (NW Corner)', 'E 84 St & 3 Ave', 'Lexington Ave & E 36 St', 'W 45 St & 6 Ave -', 'Cedar St & Myrtle Ave', 'Central Ave & Starr Street', 'DeKalb Ave & Franklin Ave', 'George St & Wilson Ave', 'Irving Ave & Jefferson St', 'McKibbin St & Bogart St', 'Powers St & Olive St', 'Stagg St & Morgan Ave', 'White St & Moore St', 'Willoughby Ave & Wyckoff Ave', 'Wyckoff Av & Jefferson St', '3 Ave & Carroll St', 'Bushwick Ave & McKibbin St', 'Devoe St & Morgan Ave', 'Sharon St & Olive St', 'Suydam St & Knickerbocker Ave', 'White St & Johnson Ave', 'Greene Av & Myrtle Av', 'Waterbury St & Stagg St', 'Bushwick Ave & Stagg St', 'Central Ave & Flushing Ave', 'Dock 72 Way & Market St', 'Henry St & Middagh St', 'Cliff St & Fulton St (Old)', 'E 12 St & 4 Av', 'Irving Ave & DeKalb Ave', 'Knickerbocker Ave & George St', 'Knickerbocker Ave & Thames St', 'Stockholm St & Wilson Ave', 'Hart St & Wyckoff Ave', '10 St & 2 Ave', 'Stuyvesant Walk & 1 Av Loop', 'Fulton St & Irving Pl', '6 Ave & W 34 St', 'W 40 St & 5 Ave']\n"
     ]
    }
   ],
   "source": [
    "stationnamesframe =   test.drop_duplicates() \n",
    "stationnamesframe = pd.DataFrame(stationnamesframe,columns=['station1'])\n",
    "stationnamesframe =   stationnamesframe.drop_duplicates() \n",
    "stationnames =  pd.DataFrame(stationnamesframe , columns=['station1'])['station1'].to_numpy().tolist()\n",
    "print(stationnames)"
   ]
  },
  {
   "cell_type": "code",
   "execution_count": 8,
   "id": "5d042f78",
   "metadata": {},
   "outputs": [
    {
     "ename": "NameError",
     "evalue": "name 'model' is not defined",
     "output_type": "error",
     "traceback": [
      "\u001b[0;31m---------------------------------------------------------------------------\u001b[0m",
      "\u001b[0;31mNameError\u001b[0m                                 Traceback (most recent call last)",
      "\u001b[0;32m/tmp/ipykernel_899/1512393145.py\u001b[0m in \u001b[0;36m<module>\u001b[0;34m\u001b[0m\n\u001b[1;32m      1\u001b[0m \u001b[0;32mfor\u001b[0m \u001b[0mstation\u001b[0m \u001b[0;32min\u001b[0m \u001b[0mstationnames\u001b[0m\u001b[0;34m:\u001b[0m\u001b[0;34m\u001b[0m\u001b[0;34m\u001b[0m\u001b[0m\n\u001b[0;32m----> 2\u001b[0;31m     \u001b[0mpredict_train\u001b[0m \u001b[0;34m=\u001b[0m \u001b[0mmodel\u001b[0m\u001b[0;34m.\u001b[0m\u001b[0mpredict\u001b[0m\u001b[0;34m(\u001b[0m\u001b[0mx_train_normalized\u001b[0m\u001b[0;34m)\u001b[0m\u001b[0;34m\u001b[0m\u001b[0;34m\u001b[0m\u001b[0m\n\u001b[0m\u001b[1;32m      3\u001b[0m     \u001b[0my1\u001b[0m \u001b[0;34m=\u001b[0m  \u001b[0my_train\u001b[0m\u001b[0;34m\u001b[0m\u001b[0;34m\u001b[0m\u001b[0m\n\u001b[1;32m      4\u001b[0m     \u001b[0my2\u001b[0m \u001b[0;34m=\u001b[0m  \u001b[0mpredict_train\u001b[0m\u001b[0;34m\u001b[0m\u001b[0;34m\u001b[0m\u001b[0m\n\u001b[1;32m      5\u001b[0m     \u001b[0;31m#test = pd.DataFrame({ 'y':y1 ,'y2':y2})#\u001b[0m\u001b[0;34m\u001b[0m\u001b[0;34m\u001b[0m\u001b[0;34m\u001b[0m\u001b[0m\n",
      "\u001b[0;31mNameError\u001b[0m: name 'model' is not defined"
     ]
    }
   ],
   "source": [
    "for station in stationnames:\n",
    "    predict_train = model.predict(x_train_normalized)\n",
    "    y1 =  y_train \n",
    "    y2 =  predict_train \n",
    "    #test = pd.DataFrame({ 'y':y1 ,'y2':y2})#\n",
    "\n",
    "    test1 = test.iloc[:y_train.shape[0]]\n",
    "    test1 = pd.DataFrame(test1)\n",
    "    test1['y'] = y1\n",
    "    test1['y2'] = y2\n",
    "    test1 = test1[test1['station']==station]\n",
    "    test1['yearweek'] = pd.to_datetime(test1['year'].astype(str) + ' ' + test1['week'].astype(str) + ' 1',format='%Y %U %w')\n",
    "    #print(test1)\n",
    "\n",
    "    plt.plot(test1['yearweek'],test1['y'],label='real' , color = 'royalblue'  )\n",
    "    plt.plot(test1['yearweek'],test1['y2'],label='train' , color = 'orange'  )\n",
    "    predict_test = model.predict(x_test_normalized)\n",
    "    y1 =  y_test \n",
    "    y2 =  predict_test \n",
    "    #test = pd.DataFrame({ 'y':y1 ,'y2':y2})#\n",
    "    test2 = test.iloc[-y_test.shape[0]:]\n",
    "    test2 = pd.DataFrame(test2)\n",
    "    test2['y'] = y1\n",
    "    test2['y2'] = y2\n",
    "    test2 = test2[test2['station']==station]\n",
    "    test2['yearweek'] = pd.to_datetime(test2['year'].astype(str) + ' ' + test2['week'].astype(str) + ' 1',format='%Y %U %w')\n",
    "    #print(test2)\n",
    "    try:\n",
    "        mae = mean_absolute_error(test2['y'] ,test2['y2'] )\n",
    "        plt.title(label=station+\", mae: {:0.2f}\".format(mae) ,\n",
    "          fontsize=40,\n",
    "          color=\"black\")\n",
    "    except:\n",
    "        plt.title(label=station+\", mae: nan\"  ,\n",
    "          fontsize=40,\n",
    "          color=\"black\")\n",
    "    plt.plot(test2['yearweek'],test2['y'],label='_Hidden' , color = 'royalblue'  )\n",
    "    plt.plot(test2['yearweek'],test2['y2'],label='predict' , color = 'black' )\n",
    "    \n",
    "    plt.legend(loc=\"upper left\")\n",
    "    plt.savefig( 'Model1Images/'+station+'linear.jpg',bbox_inches='tight', dpi=150)\n",
    "    plt.show()"
   ]
  },
  {
   "cell_type": "code",
   "execution_count": null,
   "id": "7d541738",
   "metadata": {},
   "outputs": [],
   "source": []
  }
 ],
 "metadata": {
  "kernelspec": {
   "display_name": "Python 3 (ipykernel)",
   "language": "python",
   "name": "python3"
  },
  "language_info": {
   "codemirror_mode": {
    "name": "ipython",
    "version": 3
   },
   "file_extension": ".py",
   "mimetype": "text/x-python",
   "name": "python",
   "nbconvert_exporter": "python",
   "pygments_lexer": "ipython3",
   "version": "3.8.10"
  }
 },
 "nbformat": 4,
 "nbformat_minor": 5
}
