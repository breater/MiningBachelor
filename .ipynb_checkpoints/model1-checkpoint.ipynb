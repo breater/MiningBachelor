{
 "cells": [
  {
   "cell_type": "code",
   "execution_count": null,
   "id": "cf3f11f5",
   "metadata": {},
   "outputs": [],
   "source": [
    "import pandas as pd\n",
    "import numpy as np\n",
    "import matplotlib.pyplot as plt\n",
    "import tensorflow.keras as keras\n",
    "import tensorflow  as tf\n",
    "from tensorflow.keras.models import Sequential\n",
    "from tensorflow.keras.layers import *\n",
    "from tensorflow.keras.optimizers import *\n",
    "\n",
    "from tensorflow.keras.callbacks import *\n",
    "\n",
    "from sklearn.metrics import mean_absolute_error\n",
    "from sklearn.compose import make_column_transformer\n",
    "from sklearn.preprocessing import MinMaxScaler, OneHotEncoder\n",
    "from sklearn.model_selection import train_test_split\n",
    "\n",
    "import os"
   ]
  },
  {
   "cell_type": "code",
   "execution_count": null,
   "id": "e4a4af43",
   "metadata": {},
   "outputs": [],
   "source": [
    "frame = pd.read_csv(r'ausleihe.csv')\n",
    "df = pd.DataFrame(frame)\n",
    "col = list(df.columns.values)\n",
    "\n",
    "df.head()"
   ]
  },
  {
   "cell_type": "code",
   "execution_count": null,
   "id": "f872ce0e",
   "metadata": {},
   "outputs": [],
   "source": [
    "#get input and output\n",
    "x = df.drop(\"count\",axis=1)\n",
    "y = df[\"count\"]"
   ]
  },
  {
   "cell_type": "code",
   "execution_count": null,
   "id": "3ea41f56",
   "metadata": {},
   "outputs": [],
   "source": [
    "#split data into train and test\n",
    "x_train, x_test ,y_train , y_test = train_test_split(x,y,test_size=0.2,shuffle=False)"
   ]
  },
  {
   "cell_type": "code",
   "execution_count": null,
   "id": "cefd09c5",
   "metadata": {},
   "outputs": [],
   "source": [
    "#normalise data\n",
    "ct = make_column_transformer(\n",
    " (MinMaxScaler(),[\"Year\",\"Week\",\"LAT\",\"LONG\"]) , remainder=\"passthrough\"\n",
    " )\n",
    "\n",
    "ct.fit(x_train)\n",
    "\n",
    "x_train_normalized = ct.transform(x_train)\n",
    "\n",
    "x_test_normalized = ct.transform(x_test)\n",
    "\n",
    "x_train_normalized.shape"
   ]
  },
  {
   "cell_type": "code",
   "execution_count": 4,
   "id": "9cdb0547",
   "metadata": {},
   "outputs": [],
   "source": [
    "#create Model structure\n",
    "with tf.device('/device:CPU:0'):\n",
    "    model = Sequential()\n",
    "    model.add(Dense(85, kernel_initializer='normal',  activation='relu', input_shape=(4,) ))    \n",
    "    model.add(Dense(35, kernel_initializer='normal',activation='relu'))   \n",
    "    model.add(Dense(35, kernel_initializer='normal',activation='relu'))   \n",
    "    model.add(Dense(1, kernel_initializer='normal',activation=None))"
   ]
  },
  {
   "cell_type": "code",
   "execution_count": 5,
   "id": "394ad19d",
   "metadata": {},
   "outputs": [
    {
     "name": "stdout",
     "output_type": "stream",
     "text": [
      "[PhysicalDevice(name='/physical_device:CPU:0', device_type='CPU')]\n"
     ]
    }
   ],
   "source": [
    "gpus = tf.config.experimental.list_physical_devices('CPU')\n",
    "print(gpus)"
   ]
  },
  {
   "cell_type": "code",
   "execution_count": 6,
   "id": "287631d1",
   "metadata": {},
   "outputs": [],
   "source": [
    "#set model loss and optimizer\n",
    "with tf.device('/device:CPU:0'):\n",
    "    model.compile(optimizer= Adam(learning_rate=0.001),loss='mae', metrics=['mae','mape'])"
   ]
  },
  {
   "cell_type": "code",
   "execution_count": 7,
   "id": "0c16b804",
   "metadata": {},
   "outputs": [],
   "source": [
    "#checkpoint to save best Model which isnt overfitted\n",
    "checkpoint = ModelCheckpoint('Model1', monitor='val_loss', verbose=0, save_best_only=True, save_weights_only=False, mode='min' )"
   ]
  },
  {
   "cell_type": "code",
   "execution_count": 9,
   "id": "d39f8a43",
   "metadata": {},
   "outputs": [
    {
     "ename": "NameError",
     "evalue": "name 'x_train_normalized' is not defined",
     "output_type": "error",
     "traceback": [
      "\u001b[0;31m---------------------------------------------------------------------------\u001b[0m",
      "\u001b[0;31mNameError\u001b[0m                                 Traceback (most recent call last)",
      "\u001b[0;32m/var/folders/mj/x841pnhs2sd8wynd0nz_blkh0000gn/T/ipykernel_90308/3233492408.py\u001b[0m in \u001b[0;36m<module>\u001b[0;34m\u001b[0m\n\u001b[1;32m      1\u001b[0m \u001b[0;31m#train Model\u001b[0m\u001b[0;34m\u001b[0m\u001b[0;34m\u001b[0m\u001b[0;34m\u001b[0m\u001b[0m\n\u001b[1;32m      2\u001b[0m \u001b[0;32mwith\u001b[0m \u001b[0mtf\u001b[0m\u001b[0;34m.\u001b[0m\u001b[0mdevice\u001b[0m\u001b[0;34m(\u001b[0m\u001b[0;34m'/device:CPU:0'\u001b[0m\u001b[0;34m)\u001b[0m\u001b[0;34m:\u001b[0m\u001b[0;34m\u001b[0m\u001b[0;34m\u001b[0m\u001b[0m\n\u001b[0;32m----> 3\u001b[0;31m     \u001b[0mhistory\u001b[0m \u001b[0;34m=\u001b[0m \u001b[0mmodel\u001b[0m\u001b[0;34m.\u001b[0m\u001b[0mfit\u001b[0m\u001b[0;34m(\u001b[0m\u001b[0mx_train_normalized\u001b[0m\u001b[0;34m,\u001b[0m \u001b[0my_train\u001b[0m\u001b[0;34m.\u001b[0m\u001b[0mvalues\u001b[0m\u001b[0;34m,\u001b[0m \u001b[0mepochs\u001b[0m\u001b[0;34m=\u001b[0m\u001b[0;36m100\u001b[0m \u001b[0;34m,\u001b[0m \u001b[0mbatch_size\u001b[0m\u001b[0;34m=\u001b[0m\u001b[0;36m1\u001b[0m\u001b[0;34m,\u001b[0m\u001b[0mshuffle\u001b[0m\u001b[0;34m=\u001b[0m\u001b[0;32mFalse\u001b[0m   \u001b[0;34m)\u001b[0m\u001b[0;34m\u001b[0m\u001b[0;34m\u001b[0m\u001b[0m\n\u001b[0m",
      "\u001b[0;31mNameError\u001b[0m: name 'x_train_normalized' is not defined"
     ]
    }
   ],
   "source": [
    "#train Model\n",
    "with tf.device('/device:CPU:0'):\n",
    "    history = model.fit(x_train_normalized, y_train.values, epochs=100 , batch_size=1,shuffle=False   )"
   ]
  },
  {
   "cell_type": "code",
   "execution_count": 47,
   "id": "26c3f25d",
   "metadata": {},
   "outputs": [
    {
     "name": "stdout",
     "output_type": "stream",
     "text": [
      "912/912 [==============================] - 1s 733us/step - loss: 319.1625 - mae: 319.1625 - mape: 123.8683\n"
     ]
    },
    {
     "data": {
      "text/plain": [
       "[319.1625061035156, 319.1625061035156, 123.8683090209961]"
      ]
     },
     "execution_count": 47,
     "metadata": {},
     "output_type": "execute_result"
    }
   ],
   "source": [
    "model.evaluate(x_test_normalized,y_test.values)"
   ]
  },
  {
   "cell_type": "code",
   "execution_count": null,
   "id": "3549252d",
   "metadata": {},
   "outputs": [],
   "source": []
  }
 ],
 "metadata": {
  "kernelspec": {
   "display_name": "Python 3 (ipykernel)",
   "language": "python",
   "name": "python3"
  },
  "language_info": {
   "codemirror_mode": {
    "name": "ipython",
    "version": 3
   },
   "file_extension": ".py",
   "mimetype": "text/x-python",
   "name": "python",
   "nbconvert_exporter": "python",
   "pygments_lexer": "ipython3",
   "version": "3.8.10"
  }
 },
 "nbformat": 4,
 "nbformat_minor": 5
}
